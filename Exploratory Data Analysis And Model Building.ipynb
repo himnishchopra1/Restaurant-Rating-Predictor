{
 "cells": [
  {
   "cell_type": "markdown",
   "id": "0d418335",
   "metadata": {},
   "source": [
    "# Exploratory Data Analysis Of Zomato Dataset"
   ]
  },
  {
   "cell_type": "markdown",
   "id": "d1ee7d0b",
   "metadata": {},
   "source": [
    "#### The aim of this project is to perform a exploratory data analysis on this data. Then a machine learning model will be built to help restuarants predict their zomato rating based the features contained in this dataset. This model will then be deployed using Flask to make restuarnt rating predictions."
   ]
  },
  {
   "cell_type": "code",
   "execution_count": 177,
   "id": "1b4967ea",
   "metadata": {},
   "outputs": [],
   "source": [
    "import warnings \n",
    "warnings.filterwarnings('ignore')\n",
    "%matplotlib inline"
   ]
  },
  {
   "cell_type": "code",
   "execution_count": 178,
   "id": "dccab780",
   "metadata": {},
   "outputs": [],
   "source": [
    "import pandas as pd\n",
    "import numpy as np\n",
    "import matplotlib.pyplot as plt\n",
    "import matplotlib.ticker as mtick\n",
    "import plotly .graph_objs as go\n",
    "import plotly.offline as py\n",
    "import seaborn as sns"
   ]
  },
  {
   "cell_type": "code",
   "execution_count": 179,
   "id": "024102bd",
   "metadata": {},
   "outputs": [],
   "source": [
    "from sklearn.linear_model import LogisticRegression\n",
    "from sklearn.linear_model import LinearRegression\n",
    "from sklearn.ensemble import ExtraTreesRegressor\n",
    "from sklearn.model_selection import train_test_split"
   ]
  },
  {
   "cell_type": "code",
   "execution_count": null,
   "id": "651b7b2e",
   "metadata": {},
   "outputs": [],
   "source": []
  },
  {
   "cell_type": "code",
   "execution_count": 180,
   "id": "da4a6b5c",
   "metadata": {},
   "outputs": [],
   "source": [
    "df = pd.read_csv('zomato.csv')"
   ]
  },
  {
   "cell_type": "markdown",
   "id": "8438a5fc",
   "metadata": {},
   "source": [
    "#### Data Cleaning "
   ]
  },
  {
   "cell_type": "code",
   "execution_count": 181,
   "id": "77cd17b2",
   "metadata": {},
   "outputs": [
    {
     "data": {
      "text/html": [
       "<div>\n",
       "<style scoped>\n",
       "    .dataframe tbody tr th:only-of-type {\n",
       "        vertical-align: middle;\n",
       "    }\n",
       "\n",
       "    .dataframe tbody tr th {\n",
       "        vertical-align: top;\n",
       "    }\n",
       "\n",
       "    .dataframe thead th {\n",
       "        text-align: right;\n",
       "    }\n",
       "</style>\n",
       "<table border=\"1\" class=\"dataframe\">\n",
       "  <thead>\n",
       "    <tr style=\"text-align: right;\">\n",
       "      <th></th>\n",
       "      <th>url</th>\n",
       "      <th>address</th>\n",
       "      <th>name</th>\n",
       "      <th>online_order</th>\n",
       "      <th>book_table</th>\n",
       "      <th>rate</th>\n",
       "      <th>votes</th>\n",
       "      <th>phone</th>\n",
       "      <th>location</th>\n",
       "      <th>rest_type</th>\n",
       "      <th>dish_liked</th>\n",
       "      <th>cuisines</th>\n",
       "      <th>approx_cost(for two people)</th>\n",
       "      <th>reviews_list</th>\n",
       "      <th>menu_item</th>\n",
       "      <th>listed_in(type)</th>\n",
       "      <th>listed_in(city)</th>\n",
       "    </tr>\n",
       "  </thead>\n",
       "  <tbody>\n",
       "    <tr>\n",
       "      <th>0</th>\n",
       "      <td>https://www.zomato.com/bangalore/jalsa-banasha...</td>\n",
       "      <td>942, 21st Main Road, 2nd Stage, Banashankari, ...</td>\n",
       "      <td>Jalsa</td>\n",
       "      <td>Yes</td>\n",
       "      <td>Yes</td>\n",
       "      <td>4.1/5</td>\n",
       "      <td>775</td>\n",
       "      <td>080 42297555\\r\\n+91 9743772233</td>\n",
       "      <td>Banashankari</td>\n",
       "      <td>Casual Dining</td>\n",
       "      <td>Pasta, Lunch Buffet, Masala Papad, Paneer Laja...</td>\n",
       "      <td>North Indian, Mughlai, Chinese</td>\n",
       "      <td>800</td>\n",
       "      <td>[('Rated 4.0', 'RATED\\n  A beautiful place to ...</td>\n",
       "      <td>[]</td>\n",
       "      <td>Buffet</td>\n",
       "      <td>Banashankari</td>\n",
       "    </tr>\n",
       "    <tr>\n",
       "      <th>1</th>\n",
       "      <td>https://www.zomato.com/bangalore/spice-elephan...</td>\n",
       "      <td>2nd Floor, 80 Feet Road, Near Big Bazaar, 6th ...</td>\n",
       "      <td>Spice Elephant</td>\n",
       "      <td>Yes</td>\n",
       "      <td>No</td>\n",
       "      <td>4.1/5</td>\n",
       "      <td>787</td>\n",
       "      <td>080 41714161</td>\n",
       "      <td>Banashankari</td>\n",
       "      <td>Casual Dining</td>\n",
       "      <td>Momos, Lunch Buffet, Chocolate Nirvana, Thai G...</td>\n",
       "      <td>Chinese, North Indian, Thai</td>\n",
       "      <td>800</td>\n",
       "      <td>[('Rated 4.0', 'RATED\\n  Had been here for din...</td>\n",
       "      <td>[]</td>\n",
       "      <td>Buffet</td>\n",
       "      <td>Banashankari</td>\n",
       "    </tr>\n",
       "    <tr>\n",
       "      <th>2</th>\n",
       "      <td>https://www.zomato.com/SanchurroBangalore?cont...</td>\n",
       "      <td>1112, Next to KIMS Medical College, 17th Cross...</td>\n",
       "      <td>San Churro Cafe</td>\n",
       "      <td>Yes</td>\n",
       "      <td>No</td>\n",
       "      <td>3.8/5</td>\n",
       "      <td>918</td>\n",
       "      <td>+91 9663487993</td>\n",
       "      <td>Banashankari</td>\n",
       "      <td>Cafe, Casual Dining</td>\n",
       "      <td>Churros, Cannelloni, Minestrone Soup, Hot Choc...</td>\n",
       "      <td>Cafe, Mexican, Italian</td>\n",
       "      <td>800</td>\n",
       "      <td>[('Rated 3.0', \"RATED\\n  Ambience is not that ...</td>\n",
       "      <td>[]</td>\n",
       "      <td>Buffet</td>\n",
       "      <td>Banashankari</td>\n",
       "    </tr>\n",
       "    <tr>\n",
       "      <th>3</th>\n",
       "      <td>https://www.zomato.com/bangalore/addhuri-udupi...</td>\n",
       "      <td>1st Floor, Annakuteera, 3rd Stage, Banashankar...</td>\n",
       "      <td>Addhuri Udupi Bhojana</td>\n",
       "      <td>No</td>\n",
       "      <td>No</td>\n",
       "      <td>3.7/5</td>\n",
       "      <td>88</td>\n",
       "      <td>+91 9620009302</td>\n",
       "      <td>Banashankari</td>\n",
       "      <td>Quick Bites</td>\n",
       "      <td>Masala Dosa</td>\n",
       "      <td>South Indian, North Indian</td>\n",
       "      <td>300</td>\n",
       "      <td>[('Rated 4.0', \"RATED\\n  Great food and proper...</td>\n",
       "      <td>[]</td>\n",
       "      <td>Buffet</td>\n",
       "      <td>Banashankari</td>\n",
       "    </tr>\n",
       "    <tr>\n",
       "      <th>4</th>\n",
       "      <td>https://www.zomato.com/bangalore/grand-village...</td>\n",
       "      <td>10, 3rd Floor, Lakshmi Associates, Gandhi Baza...</td>\n",
       "      <td>Grand Village</td>\n",
       "      <td>No</td>\n",
       "      <td>No</td>\n",
       "      <td>3.8/5</td>\n",
       "      <td>166</td>\n",
       "      <td>+91 8026612447\\r\\n+91 9901210005</td>\n",
       "      <td>Basavanagudi</td>\n",
       "      <td>Casual Dining</td>\n",
       "      <td>Panipuri, Gol Gappe</td>\n",
       "      <td>North Indian, Rajasthani</td>\n",
       "      <td>600</td>\n",
       "      <td>[('Rated 4.0', 'RATED\\n  Very good restaurant ...</td>\n",
       "      <td>[]</td>\n",
       "      <td>Buffet</td>\n",
       "      <td>Banashankari</td>\n",
       "    </tr>\n",
       "  </tbody>\n",
       "</table>\n",
       "</div>"
      ],
      "text/plain": [
       "                                                 url  \\\n",
       "0  https://www.zomato.com/bangalore/jalsa-banasha...   \n",
       "1  https://www.zomato.com/bangalore/spice-elephan...   \n",
       "2  https://www.zomato.com/SanchurroBangalore?cont...   \n",
       "3  https://www.zomato.com/bangalore/addhuri-udupi...   \n",
       "4  https://www.zomato.com/bangalore/grand-village...   \n",
       "\n",
       "                                             address                   name  \\\n",
       "0  942, 21st Main Road, 2nd Stage, Banashankari, ...                  Jalsa   \n",
       "1  2nd Floor, 80 Feet Road, Near Big Bazaar, 6th ...         Spice Elephant   \n",
       "2  1112, Next to KIMS Medical College, 17th Cross...        San Churro Cafe   \n",
       "3  1st Floor, Annakuteera, 3rd Stage, Banashankar...  Addhuri Udupi Bhojana   \n",
       "4  10, 3rd Floor, Lakshmi Associates, Gandhi Baza...          Grand Village   \n",
       "\n",
       "  online_order book_table   rate  votes                             phone  \\\n",
       "0          Yes        Yes  4.1/5    775    080 42297555\\r\\n+91 9743772233   \n",
       "1          Yes         No  4.1/5    787                      080 41714161   \n",
       "2          Yes         No  3.8/5    918                    +91 9663487993   \n",
       "3           No         No  3.7/5     88                    +91 9620009302   \n",
       "4           No         No  3.8/5    166  +91 8026612447\\r\\n+91 9901210005   \n",
       "\n",
       "       location            rest_type  \\\n",
       "0  Banashankari        Casual Dining   \n",
       "1  Banashankari        Casual Dining   \n",
       "2  Banashankari  Cafe, Casual Dining   \n",
       "3  Banashankari          Quick Bites   \n",
       "4  Basavanagudi        Casual Dining   \n",
       "\n",
       "                                          dish_liked  \\\n",
       "0  Pasta, Lunch Buffet, Masala Papad, Paneer Laja...   \n",
       "1  Momos, Lunch Buffet, Chocolate Nirvana, Thai G...   \n",
       "2  Churros, Cannelloni, Minestrone Soup, Hot Choc...   \n",
       "3                                        Masala Dosa   \n",
       "4                                Panipuri, Gol Gappe   \n",
       "\n",
       "                         cuisines approx_cost(for two people)  \\\n",
       "0  North Indian, Mughlai, Chinese                         800   \n",
       "1     Chinese, North Indian, Thai                         800   \n",
       "2          Cafe, Mexican, Italian                         800   \n",
       "3      South Indian, North Indian                         300   \n",
       "4        North Indian, Rajasthani                         600   \n",
       "\n",
       "                                        reviews_list menu_item  \\\n",
       "0  [('Rated 4.0', 'RATED\\n  A beautiful place to ...        []   \n",
       "1  [('Rated 4.0', 'RATED\\n  Had been here for din...        []   \n",
       "2  [('Rated 3.0', \"RATED\\n  Ambience is not that ...        []   \n",
       "3  [('Rated 4.0', \"RATED\\n  Great food and proper...        []   \n",
       "4  [('Rated 4.0', 'RATED\\n  Very good restaurant ...        []   \n",
       "\n",
       "  listed_in(type) listed_in(city)  \n",
       "0          Buffet    Banashankari  \n",
       "1          Buffet    Banashankari  \n",
       "2          Buffet    Banashankari  \n",
       "3          Buffet    Banashankari  \n",
       "4          Buffet    Banashankari  "
      ]
     },
     "execution_count": 181,
     "metadata": {},
     "output_type": "execute_result"
    }
   ],
   "source": [
    "df.head()"
   ]
  },
  {
   "cell_type": "code",
   "execution_count": 182,
   "id": "45d5c6a4",
   "metadata": {},
   "outputs": [
    {
     "data": {
      "text/plain": [
       "(51717, 17)"
      ]
     },
     "execution_count": 182,
     "metadata": {},
     "output_type": "execute_result"
    }
   ],
   "source": [
    "df.shape"
   ]
  },
  {
   "cell_type": "code",
   "execution_count": 183,
   "id": "94113516",
   "metadata": {},
   "outputs": [
    {
     "data": {
      "text/plain": [
       "url                                0\n",
       "address                            0\n",
       "name                               0\n",
       "online_order                       0\n",
       "book_table                         0\n",
       "rate                            7775\n",
       "votes                              0\n",
       "phone                           1208\n",
       "location                          21\n",
       "rest_type                        227\n",
       "dish_liked                     28078\n",
       "cuisines                          45\n",
       "approx_cost(for two people)      346\n",
       "reviews_list                       0\n",
       "menu_item                          0\n",
       "listed_in(type)                    0\n",
       "listed_in(city)                    0\n",
       "dtype: int64"
      ]
     },
     "execution_count": 183,
     "metadata": {},
     "output_type": "execute_result"
    }
   ],
   "source": [
    "df.isna().sum()"
   ]
  },
  {
   "cell_type": "code",
   "execution_count": 184,
   "id": "6da36038",
   "metadata": {},
   "outputs": [
    {
     "data": {
      "text/plain": [
       "url                            object\n",
       "address                        object\n",
       "name                           object\n",
       "online_order                   object\n",
       "book_table                     object\n",
       "rate                           object\n",
       "votes                           int64\n",
       "phone                          object\n",
       "location                       object\n",
       "rest_type                      object\n",
       "dish_liked                     object\n",
       "cuisines                       object\n",
       "approx_cost(for two people)    object\n",
       "reviews_list                   object\n",
       "menu_item                      object\n",
       "listed_in(type)                object\n",
       "listed_in(city)                object\n",
       "dtype: object"
      ]
     },
     "execution_count": 184,
     "metadata": {},
     "output_type": "execute_result"
    }
   ],
   "source": [
    "df.dtypes"
   ]
  },
  {
   "cell_type": "code",
   "execution_count": 185,
   "id": "1d0093ec",
   "metadata": {},
   "outputs": [],
   "source": [
    "df = df.drop(['url', 'phone'], axis=1) #Getting rid of columns that are not needed"
   ]
  },
  {
   "cell_type": "markdown",
   "id": "5f040663",
   "metadata": {},
   "source": [
    "#### Dropping Duplicated columns"
   ]
  },
  {
   "cell_type": "code",
   "execution_count": 186,
   "id": "8f1b26b9",
   "metadata": {},
   "outputs": [
    {
     "data": {
      "text/plain": [
       "43"
      ]
     },
     "execution_count": 186,
     "metadata": {},
     "output_type": "execute_result"
    }
   ],
   "source": [
    "df.duplicated().sum()"
   ]
  },
  {
   "cell_type": "code",
   "execution_count": 187,
   "id": "0bb40a92",
   "metadata": {},
   "outputs": [],
   "source": [
    "df.drop_duplicates(inplace=True)"
   ]
  },
  {
   "cell_type": "code",
   "execution_count": 188,
   "id": "e51b2ae9",
   "metadata": {},
   "outputs": [
    {
     "data": {
      "text/plain": [
       "0"
      ]
     },
     "execution_count": 188,
     "metadata": {},
     "output_type": "execute_result"
    }
   ],
   "source": [
    "df.duplicated().sum()"
   ]
  },
  {
   "cell_type": "markdown",
   "id": "f39b46c6",
   "metadata": {},
   "source": [
    "#### Dropping null values"
   ]
  },
  {
   "cell_type": "code",
   "execution_count": 189,
   "id": "8c6751a7",
   "metadata": {},
   "outputs": [
    {
     "data": {
      "text/plain": [
       "address                        0\n",
       "name                           0\n",
       "online_order                   0\n",
       "book_table                     0\n",
       "rate                           0\n",
       "votes                          0\n",
       "location                       0\n",
       "rest_type                      0\n",
       "dish_liked                     0\n",
       "cuisines                       0\n",
       "approx_cost(for two people)    0\n",
       "reviews_list                   0\n",
       "menu_item                      0\n",
       "listed_in(type)                0\n",
       "listed_in(city)                0\n",
       "dtype: int64"
      ]
     },
     "execution_count": 189,
     "metadata": {},
     "output_type": "execute_result"
    }
   ],
   "source": [
    "df.dropna(how='any', inplace=True)\n",
    "df.isnull().sum()"
   ]
  },
  {
   "cell_type": "code",
   "execution_count": 190,
   "id": "8e6dfad8",
   "metadata": {},
   "outputs": [
    {
     "data": {
      "text/plain": [
       "Index(['address', 'name', 'online_order', 'book_table', 'rate', 'votes',\n",
       "       'location', 'rest_type', 'dish_liked', 'cuisines',\n",
       "       'approx_cost(for two people)', 'reviews_list', 'menu_item',\n",
       "       'listed_in(type)', 'listed_in(city)'],\n",
       "      dtype='object')"
      ]
     },
     "execution_count": 190,
     "metadata": {},
     "output_type": "execute_result"
    }
   ],
   "source": [
    "df.columns"
   ]
  },
  {
   "cell_type": "code",
   "execution_count": 191,
   "id": "cb0ce85f",
   "metadata": {},
   "outputs": [],
   "source": [
    "df = df.rename(columns={'approx_cost(for two people)':'cost', 'listed_in(city)':'city'})"
   ]
  },
  {
   "cell_type": "code",
   "execution_count": 192,
   "id": "950597a2",
   "metadata": {},
   "outputs": [
    {
     "data": {
      "text/plain": [
       "Index(['address', 'name', 'online_order', 'book_table', 'rate', 'votes',\n",
       "       'location', 'rest_type', 'dish_liked', 'cuisines', 'cost',\n",
       "       'reviews_list', 'menu_item', 'listed_in(type)', 'city'],\n",
       "      dtype='object')"
      ]
     },
     "execution_count": 192,
     "metadata": {},
     "output_type": "execute_result"
    }
   ],
   "source": [
    "df.columns"
   ]
  },
  {
   "cell_type": "markdown",
   "id": "acec84d5",
   "metadata": {},
   "source": [
    "#### Converting the datatypes of the cost and rating columns from strings into numeric values. This will make it easier to analyze, visualize and use in a machine learning model."
   ]
  },
  {
   "cell_type": "code",
   "execution_count": 193,
   "id": "78f03f61",
   "metadata": {},
   "outputs": [
    {
     "data": {
      "text/plain": [
       "dtype('O')"
      ]
     },
     "execution_count": 193,
     "metadata": {},
     "output_type": "execute_result"
    }
   ],
   "source": [
    "df['cost'].dtype "
   ]
  },
  {
   "cell_type": "code",
   "execution_count": 194,
   "id": "b3eae426",
   "metadata": {},
   "outputs": [
    {
     "data": {
      "text/plain": [
       "array(['800', '300', '600', '700', '550', '500', '450', '650', '400',\n",
       "       '750', '200', '850', '1,200', '150', '350', '250', '1,500',\n",
       "       '1,300', '1,000', '100', '900', '1,100', '1,600', '950', '230',\n",
       "       '1,700', '1,400', '1,350', '2,200', '2,000', '1,800', '1,900',\n",
       "       '180', '330', '2,500', '2,100', '3,000', '2,800', '3,400', '40',\n",
       "       '1,250', '3,500', '4,000', '2,400', '1,450', '3,200', '6,000',\n",
       "       '1,050', '4,100', '2,300', '120', '2,600', '5,000', '3,700',\n",
       "       '1,650', '2,700', '4,500'], dtype=object)"
      ]
     },
     "execution_count": 194,
     "metadata": {},
     "output_type": "execute_result"
    }
   ],
   "source": [
    "df['cost'].unique() ## The values of this fetaure are stored as an object not an integer."
   ]
  },
  {
   "cell_type": "code",
   "execution_count": 195,
   "id": "fe6a2422",
   "metadata": {},
   "outputs": [],
   "source": [
    "## removing commas in the cost values\n",
    "def removeCommas(x):\n",
    "    return x.replace(',','')\n",
    "\n",
    "df['cost']=df['cost'].apply(removeCommas)"
   ]
  },
  {
   "cell_type": "code",
   "execution_count": 196,
   "id": "c15bfe8a",
   "metadata": {},
   "outputs": [],
   "source": [
    "df['cost'] = df['cost'].astype(float)"
   ]
  },
  {
   "cell_type": "code",
   "execution_count": 197,
   "id": "911e54d1",
   "metadata": {},
   "outputs": [
    {
     "data": {
      "text/plain": [
       "dtype('float64')"
      ]
     },
     "execution_count": 197,
     "metadata": {},
     "output_type": "execute_result"
    }
   ],
   "source": [
    "df['cost'].dtype ## Now this column will be easier to use in models, and visualize in plots"
   ]
  },
  {
   "cell_type": "code",
   "execution_count": 198,
   "id": "180c8f83",
   "metadata": {},
   "outputs": [
    {
     "data": {
      "text/plain": [
       "array(['4.1/5', '3.8/5', '3.7/5', '4.6/5', '4.0/5', '4.2/5', '3.9/5',\n",
       "       '3.0/5', '3.6/5', '2.8/5', '4.4/5', '3.1/5', '4.3/5', '2.6/5',\n",
       "       '3.3/5', '3.5/5', '3.8 /5', '3.2/5', '4.5/5', '2.5/5', '2.9/5',\n",
       "       '3.4/5', '2.7/5', '4.7/5', 'NEW', '2.4/5', '2.2/5', '2.3/5',\n",
       "       '4.8/5', '3.9 /5', '4.2 /5', '4.0 /5', '4.1 /5', '2.9 /5',\n",
       "       '2.7 /5', '2.5 /5', '2.6 /5', '4.5 /5', '4.3 /5', '3.7 /5',\n",
       "       '4.4 /5', '4.9/5', '2.1/5', '2.0/5', '1.8/5', '3.4 /5', '3.6 /5',\n",
       "       '3.3 /5', '4.6 /5', '4.9 /5', '3.2 /5', '3.0 /5', '2.8 /5',\n",
       "       '3.5 /5', '3.1 /5', '4.8 /5', '2.3 /5', '4.7 /5', '2.4 /5',\n",
       "       '2.1 /5', '2.2 /5', '2.0 /5', '1.8 /5'], dtype=object)"
      ]
     },
     "execution_count": 198,
     "metadata": {},
     "output_type": "execute_result"
    }
   ],
   "source": [
    " df['rate'].unique()"
   ]
  },
  {
   "cell_type": "code",
   "execution_count": 199,
   "id": "f958c161",
   "metadata": {},
   "outputs": [],
   "source": [
    "df = df.loc[df['rate'] !='NEW'] # removing values which having a rating as 'NEW'"
   ]
  },
  {
   "cell_type": "code",
   "execution_count": 200,
   "id": "0483ae3e",
   "metadata": {},
   "outputs": [],
   "source": [
    "def  parse(x):\n",
    "    return x.replace(\"/5\", '')\n",
    "\n",
    "df['rate'] = df['rate'].apply(parse)  "
   ]
  },
  {
   "cell_type": "code",
   "execution_count": 201,
   "id": "58006067",
   "metadata": {},
   "outputs": [],
   "source": [
    "df['rate']=df['rate'].astype(float)"
   ]
  },
  {
   "cell_type": "code",
   "execution_count": 202,
   "id": "bee1dc07",
   "metadata": {},
   "outputs": [
    {
     "data": {
      "text/plain": [
       "dtype('float64')"
      ]
     },
     "execution_count": 202,
     "metadata": {},
     "output_type": "execute_result"
    }
   ],
   "source": [
    "df['rate'].dtype"
   ]
  },
  {
   "cell_type": "markdown",
   "id": "1019aaf0",
   "metadata": {},
   "source": [
    "#### Creating numeric value out of order online column. Yes is being given with avalue of 1 and No is given a value of 0."
   ]
  },
  {
   "cell_type": "code",
   "execution_count": 203,
   "id": "8314ec20",
   "metadata": {},
   "outputs": [],
   "source": [
    "df.online_order[df.online_order == 'Yes'] = 1\n",
    "df.online_order[df.online_order == 'No'] = 0"
   ]
  },
  {
   "cell_type": "code",
   "execution_count": 204,
   "id": "9d4b923e",
   "metadata": {},
   "outputs": [
    {
     "data": {
      "text/plain": [
       "1    16378\n",
       "0     6870\n",
       "Name: online_order, dtype: int64"
      ]
     },
     "execution_count": 204,
     "metadata": {},
     "output_type": "execute_result"
    }
   ],
   "source": [
    "df.online_order.value_counts()"
   ]
  },
  {
   "cell_type": "markdown",
   "id": "422a9d39",
   "metadata": {},
   "source": [
    "#### Creating numeric value out of table booking column. Yes is being given with avalue of 1 and No is given a value of 0."
   ]
  },
  {
   "cell_type": "code",
   "execution_count": 205,
   "id": "667ffa83",
   "metadata": {},
   "outputs": [
    {
     "data": {
      "text/plain": [
       "0    17191\n",
       "1     6057\n",
       "Name: book_table, dtype: int64"
      ]
     },
     "execution_count": 205,
     "metadata": {},
     "output_type": "execute_result"
    }
   ],
   "source": [
    "df.book_table[df.book_table == 'Yes'] = 1 \n",
    "df.book_table[df.book_table == 'No'] = 0\n",
    "df.book_table = pd.to_numeric(df.book_table)\n",
    "df.book_table.value_counts()"
   ]
  },
  {
   "cell_type": "markdown",
   "id": "433caf23",
   "metadata": {},
   "source": [
    "# Data Visualizations"
   ]
  },
  {
   "cell_type": "markdown",
   "id": "814e0692",
   "metadata": {},
   "source": [
    "#### Visualizing the restaurants with the most amount of franchises"
   ]
  },
  {
   "cell_type": "code",
   "execution_count": 206,
   "id": "3f00cbde",
   "metadata": {},
   "outputs": [],
   "source": [
    "franchise = df['name'].value_counts()[:20]"
   ]
  },
  {
   "cell_type": "code",
   "execution_count": 207,
   "id": "4ae8bb5b",
   "metadata": {},
   "outputs": [
    {
     "data": {
      "text/plain": [
       "Onesta                    85\n",
       "Empire Restaurant         67\n",
       "KFC                       59\n",
       "McDonald's                57\n",
       "Pizza Hut                 56\n",
       "Domino's Pizza            55\n",
       "Smally's Resto Cafe       54\n",
       "Faasos                    54\n",
       "Corner House Ice Cream    52\n",
       "Burger King               51\n",
       "Polar Bear                48\n",
       "Smoor                     47\n",
       "Mani's Dum Biryani        47\n",
       "Pizza Stop                46\n",
       "Mainland China            45\n",
       "Chung Wah                 45\n",
       "Subway                    45\n",
       "Lakeview Milkbar          44\n",
       "eat.fit                   44\n",
       "Hammered                  44\n",
       "Name: name, dtype: int64"
      ]
     },
     "execution_count": 207,
     "metadata": {},
     "output_type": "execute_result"
    }
   ],
   "source": [
    "franchise # These restaurants have the most franchises"
   ]
  },
  {
   "cell_type": "code",
   "execution_count": 208,
   "id": "2f4a0ca1",
   "metadata": {},
   "outputs": [
    {
     "data": {
      "image/png": "[encoded data removed]",
      "text/plain": [
       "<Figure size 720x720 with 1 Axes>"
      ]
     },
     "metadata": {
      "needs_background": "light"
     },
     "output_type": "display_data"
    }
   ],
   "source": [
    "plt.figure(figsize=(10,10))\n",
    "sns.barplot(x=franchise, y=franchise.index, palette='deep')\n",
    "plt.title(\"Biggest restaurant chains in Banglore\")\n",
    "plt.xlabel(\"Number of Franchises\");\n",
    "plt.show()"
   ]
  },
  {
   "cell_type": "markdown",
   "id": "4255c4b3",
   "metadata": {},
   "source": [
    "### Visualizing the number of restaurants that offer table booking"
   ]
  },
  {
   "cell_type": "code",
   "execution_count": 209,
   "id": "e67b0175",
   "metadata": {},
   "outputs": [],
   "source": [
    "bookingCount=df['book_table'].value_counts()"
   ]
  },
  {
   "cell_type": "code",
   "execution_count": 210,
   "id": "e8b5a136",
   "metadata": {},
   "outputs": [
    {
     "data": {
      "text/plain": [
       "0    17191\n",
       "1     6057\n",
       "Name: book_table, dtype: int64"
      ]
     },
     "execution_count": 210,
     "metadata": {},
     "output_type": "execute_result"
    }
   ],
   "source": [
    "bookingCount"
   ]
  },
  {
   "cell_type": "code",
   "execution_count": null,
   "id": "0455a863",
   "metadata": {},
   "outputs": [],
   "source": []
  },
  {
   "cell_type": "code",
   "execution_count": 212,
   "id": "4d0aea77",
   "metadata": {},
   "outputs": [
    {
     "data": {
      "image/png": "[encoded data removed]",
      "text/plain": [
       "<Figure size 936x936 with 1 Axes>"
      ]
     },
     "metadata": {},
     "output_type": "display_data"
    }
   ],
   "source": [
    "# Creating color parameters\n",
    "colors = ( \"orange\", \"cyan\", \"brown\",\n",
    "          \"grey\", \"indigo\", \"beige\")\n",
    " \n",
    "# Wedge properties\n",
    "wp = { 'linewidth' : 1, 'edgecolor' : \"green\" }\n",
    " \n",
    "# Creating autocpt arguments\n",
    "def func(pct, allvalues):\n",
    "    absolute = int(pct / 100.*np.sum(allvalues))\n",
    "    return \"{:.1f}%\\n({:d} g)\".format(pct, absolute)\n",
    " \n",
    "# Creating plot\n",
    "fig, ax = plt.subplots(figsize =(13, 13))\n",
    "wedges, texts, autotexts = ax.pie(bookingCount,\n",
    "                                  autopct = lambda pct: func(pct, bookingCount),\n",
    "                                  labels = bookingCount.index,\n",
    "                                  shadow = True,\n",
    "                                  colors = colors,\n",
    "                                  startangle = 90,\n",
    "                                  wedgeprops = wp,\n",
    "                                  textprops = dict(color =\"magenta\"))\n",
    "\n",
    "plt.setp(autotexts, size = 25, weight =\"bold\")\n",
    "ax.set_title(\"Restaurants that offer table booking\", size=25)\n",
    " \n",
    "# show plot\n",
    "plt.show()"
   ]
  },
  {
   "cell_type": "markdown",
   "id": "2e7f1836",
   "metadata": {},
   "source": [
    "##### Most restaurants do not offer table booking."
   ]
  },
  {
   "cell_type": "markdown",
   "id": "291acb26",
   "metadata": {},
   "source": [
    "### Visualizing the number of restaurants that offer delivery services"
   ]
  },
  {
   "cell_type": "code",
   "execution_count": 213,
   "id": "190d2406",
   "metadata": {},
   "outputs": [
    {
     "data": {
      "image/png": "[encoded data removed]",
      "text/plain": [
       "<Figure size 720x720 with 1 Axes>"
      ]
     },
     "metadata": {
      "needs_background": "light"
     },
     "output_type": "display_data"
    }
   ],
   "source": [
    "plt.figure(figsize=(10,10))\n",
    "sns.countplot(df['online_order'])\n",
    "plt.title('Whether Restaurants deliver online or Not', )\n",
    "plt.show()"
   ]
  },
  {
   "cell_type": "markdown",
   "id": "00fffbf6",
   "metadata": {},
   "source": [
    "#### Most restaurants offer ordering online"
   ]
  },
  {
   "cell_type": "markdown",
   "id": "67da342b",
   "metadata": {},
   "source": [
    "### Distribution of Restaurant Ratings"
   ]
  },
  {
   "cell_type": "code",
   "execution_count": 214,
   "id": "0a225f4a",
   "metadata": {},
   "outputs": [
    {
     "data": {
      "image/png": "[encoded data removed]",
      "text/plain": [
       "<Figure size 864x648 with 1 Axes>"
      ]
     },
     "metadata": {
      "needs_background": "light"
     },
     "output_type": "display_data"
    }
   ],
   "source": [
    "plt.figure(figsize=(12,9))\n",
    "sns.distplot(df['rate'], bins=20, kde=True);"
   ]
  },
  {
   "cell_type": "markdown",
   "id": "e131b582",
   "metadata": {},
   "source": [
    "#### Most restaurants get a rating between 3.5 and 4.5 "
   ]
  },
  {
   "cell_type": "code",
   "execution_count": 215,
   "id": "2ae91af1",
   "metadata": {},
   "outputs": [
    {
     "data": {
      "text/plain": [
       "4.9"
      ]
     },
     "execution_count": 215,
     "metadata": {},
     "output_type": "execute_result"
    }
   ],
   "source": [
    "df['rate'].max() ## Highest rating that restaurants have recived"
   ]
  },
  {
   "cell_type": "code",
   "execution_count": 216,
   "id": "20b2da71",
   "metadata": {},
   "outputs": [
    {
     "data": {
      "text/plain": [
       "1.8"
      ]
     },
     "execution_count": 216,
     "metadata": {},
     "output_type": "execute_result"
    }
   ],
   "source": [
    "df['rate'].min() ## Lowest rated restaurants. These restaurants received the lowest\n",
    "                                    ## ratings"
   ]
  },
  {
   "cell_type": "markdown",
   "id": "35fcfe25",
   "metadata": {},
   "source": [
    "##### Number of restaurants with a rating between 2 and 3."
   ]
  },
  {
   "cell_type": "code",
   "execution_count": 217,
   "id": "2c217fc1",
   "metadata": {},
   "outputs": [
    {
     "data": {
      "text/plain": [
       "1179"
      ]
     },
     "execution_count": 217,
     "metadata": {},
     "output_type": "execute_result"
    }
   ],
   "source": [
    "\n",
    "len(df[(df['rate']>=2) & (df['rate']<3)])"
   ]
  },
  {
   "cell_type": "markdown",
   "id": "19b05256",
   "metadata": {},
   "source": [
    "##### Number of restaurants with a rating between 3 and 4."
   ]
  },
  {
   "cell_type": "code",
   "execution_count": 218,
   "id": "f3ffdb0c",
   "metadata": {},
   "outputs": [
    {
     "data": {
      "text/plain": [
       "10153"
      ]
     },
     "execution_count": 218,
     "metadata": {},
     "output_type": "execute_result"
    }
   ],
   "source": [
    "len(df[(df['rate']>=3) & (df['rate']<4)])"
   ]
  },
  {
   "cell_type": "markdown",
   "id": "ddb794dd",
   "metadata": {},
   "source": [
    "##### Number of restaurants with a rating between 4 and 5."
   ]
  },
  {
   "cell_type": "code",
   "execution_count": 219,
   "id": "da5ae353",
   "metadata": {},
   "outputs": [
    {
     "data": {
      "text/plain": [
       "11911"
      ]
     },
     "execution_count": 219,
     "metadata": {},
     "output_type": "execute_result"
    }
   ],
   "source": [
    "len(df[(df['rate']>=4) & (df['rate']<5)])"
   ]
  },
  {
   "cell_type": "markdown",
   "id": "8edef9c6",
   "metadata": {},
   "source": [
    "#### Now it can be seen more clearly how these ratings are actually being distrubuted"
   ]
  },
  {
   "cell_type": "code",
   "execution_count": 220,
   "id": "1b524a8b",
   "metadata": {},
   "outputs": [
    {
     "data": {
      "image/png": "[encoded data removed]",
      "text/plain": [
       "<Figure size 936x936 with 1 Axes>"
      ]
     },
     "metadata": {},
     "output_type": "display_data"
    }
   ],
   "source": [
    "fig, ax = plt.subplots(figsize =(13, 13))\n",
    "\n",
    "RatingsDistribution=[len(df[(df['rate']>=1) & (df['rate']<2)]),\n",
    "        len(df[(df['rate']>=2) & (df['rate']<3)]),\n",
    "        len(df[(df['rate']>=3) & (df['rate']<4)]),\n",
    "        len(df[(df['rate']>=4)])]\n",
    "\n",
    "labels=['Rating between 1 and 2','Rating between 2 and 3','Rating between 3 and 4'\n",
    "        ,'Rating more than 4']\n",
    "colors = ['#ff3333','#c2c2d6','#6699ff']\n",
    "plt.pie(RatingsDistribution,colors=colors, labels=labels, autopct='%1.0f%%', pctdistance=.5, labeldistance=1.2,shadow=True)\n",
    "\n",
    "plt.setp(autotexts, size = 25, weight =\"bold\")\n",
    "ax.set_title(\"Restaurants that offer table booking\", size=25)\n",
    "plt.show()"
   ]
  },
  {
   "cell_type": "markdown",
   "id": "f3e2b172",
   "metadata": {},
   "source": [
    "### Disributions of services offered by restaurants"
   ]
  },
  {
   "cell_type": "code",
   "execution_count": 221,
   "id": "6fe2aaf5",
   "metadata": {},
   "outputs": [
    {
     "data": {
      "image/png": "[encoded data removed]",
      "text/plain": [
       "<Figure size 936x936 with 1 Axes>"
      ]
     },
     "metadata": {
      "needs_background": "light"
     },
     "output_type": "display_data"
    }
   ],
   "source": [
    "plt.figure(figsize=(13,13))\n",
    "sns.countplot(df['listed_in(type)']).set_xticklabels(sns.countplot(df['listed_in(type)']).get_xticklabels(), rotation=90, ha=\"right\")\n",
    "plt.xlabel(\"Type of Service\",size=15)\n",
    "plt.ylabel(\"Count\",size=15)\n",
    "plt.title('Distribution of services offered by restaurants', size=25);\n"
   ]
  },
  {
   "cell_type": "markdown",
   "id": "17fb46ca",
   "metadata": {},
   "source": [
    "#### The most common services offered are delivery and dine-out"
   ]
  },
  {
   "cell_type": "markdown",
   "id": "8fdeafe2",
   "metadata": {},
   "source": [
    "### Distribution of Cost of Food for two people"
   ]
  },
  {
   "cell_type": "code",
   "execution_count": 222,
   "id": "d0bdce00",
   "metadata": {},
   "outputs": [
    {
     "data": {
      "image/png": "[encoded data removed]",
      "text/plain": [
       "<Figure size 864x864 with 1 Axes>"
      ]
     },
     "metadata": {
      "needs_background": "light"
     },
     "output_type": "display_data"
    }
   ],
   "source": [
    "plt.figure(figsize=(12,12))\n",
    "sns.distplot(df['cost'])\n",
    "plt.title('Distribution of Cost of Food for two people', size=25)\n",
    "plt.xlabel('Cost (Rupees) ', size=15)\n",
    "plt.ylabel('Count ', size=15)\n",
    "plt.show();"
   ]
  },
  {
   "cell_type": "code",
   "execution_count": 223,
   "id": "091aa168",
   "metadata": {},
   "outputs": [
    {
     "data": {
      "image/png": "[encoded data removed]",
      "text/plain": [
       "<Figure size 864x864 with 1 Axes>"
      ]
     },
     "metadata": {},
     "output_type": "display_data"
    }
   ],
   "source": [
    "sns.set_style(\"whitegrid\")\n",
    "plt.figure(figsize=(12,12))\n",
    "sns.boxplot( y = 'cost', data = df);\n",
    "plt.xlabel('Cost (Rupees) ', size=15)\n",
    "plt.ylabel('Count ', size=15);"
   ]
  },
  {
   "cell_type": "markdown",
   "id": "4e5055b8",
   "metadata": {},
   "source": [
    "#### Most dishes cost between 500 and 1000 rupees but one dish costs 6000 rupees,"
   ]
  },
  {
   "cell_type": "markdown",
   "id": "d1daf724",
   "metadata": {},
   "source": [
    "### Most Liked Dishes"
   ]
  },
  {
   "cell_type": "code",
   "execution_count": 224,
   "id": "f3241d2b",
   "metadata": {},
   "outputs": [],
   "source": [
    "import re\n",
    "\n",
    "df.index=range(df.shape[0])\n",
    "likes=[]\n",
    "\n",
    "## adding all the liked menu items into an array\n",
    "for i in range(df.shape[0]):\n",
    "    array_split=re.split(',',df['dish_liked'][i])\n",
    "    for item in array_split:\n",
    "        likes.append(item)"
   ]
  },
  {
   "cell_type": "code",
   "execution_count": 225,
   "id": "6603ad1b",
   "metadata": {},
   "outputs": [],
   "source": [
    "df.index=range(df.shape[0])"
   ]
  },
  {
   "cell_type": "markdown",
   "id": "1a16a5c3",
   "metadata": {},
   "source": [
    "#### Most Popular Dishes"
   ]
  },
  {
   "cell_type": "code",
   "execution_count": 226,
   "id": "1682bf18",
   "metadata": {},
   "outputs": [
    {
     "data": {
      "text/plain": [
       " Pasta              2692\n",
       " Pizza              1915\n",
       " Cocktails          1880\n",
       " Burgers            1736\n",
       " Mocktails          1623\n",
       " Biryani            1307\n",
       " Sandwiches         1287\n",
       "Burgers             1256\n",
       " Coffee             1184\n",
       " Nachos             1170\n",
       " Fish               1116\n",
       " Paratha            1107\n",
       " Salads             1055\n",
       " Chicken Biryani    1004\n",
       "Cocktails            891\n",
       " Fries               876\n",
       " Noodles             854\n",
       " Beer                835\n",
       " Mutton Biryani      832\n",
       " Tea                 819\n",
       "Coffee               801\n",
       " Sandwich            788\n",
       " Butter Chicken      782\n",
       " Thali               770\n",
       "Biryani              749\n",
       "Pizza                747\n",
       " Roti                729\n",
       " Brownie             726\n",
       " Salad               677\n",
       " Hot Chocolate       672\n",
       "dtype: int64"
      ]
     },
     "execution_count": 226,
     "metadata": {},
     "output_type": "execute_result"
    }
   ],
   "source": [
    "favourite_food = pd.Series(likes).value_counts()\n",
    "favourite_food.head(30)"
   ]
  },
  {
   "cell_type": "code",
   "execution_count": 274,
   "id": "a2801181",
   "metadata": {},
   "outputs": [
    {
     "data": {
      "image/png": "[encoded data removed]",
      "text/plain": [
       "<Figure size 864x720 with 1 Axes>"
      ]
     },
     "metadata": {},
     "output_type": "display_data"
    }
   ],
   "source": [
    "ax = favourite_food.nlargest(n=20, keep='first').plot(kind='barh',figsize=(12,10))\n",
    "\n",
    "for i in ax.patches:\n",
    "    ax.annotate(str(i.get_height()), (i.get_x() * 1.005, i.get_height() * 1.005))\n",
    "\n",
    "ax.set_title(\"Most Popular Dishes in Banglore\", size=25);"
   ]
  },
  {
   "cell_type": "markdown",
   "id": "4bb0c651",
   "metadata": {},
   "source": [
    "#### Graphing the number of different types of restaurants"
   ]
  },
  {
   "cell_type": "code",
   "execution_count": 228,
   "id": "b9547735",
   "metadata": {},
   "outputs": [
    {
     "data": {
      "image/png": "[encoded data removed]",
      "text/plain": [
       "<Figure size 936x720 with 1 Axes>"
      ]
     },
     "metadata": {},
     "output_type": "display_data"
    }
   ],
   "source": [
    "plt.figure(figsize=(13,10))\n",
    "rest=df['rest_type'].value_counts()[:20]\n",
    "sns.barplot(rest,rest.index)\n",
    "plt.title(\"Restaurant types\")\n",
    "plt.xlabel(\"count\");"
   ]
  },
  {
   "cell_type": "markdown",
   "id": "9325811c",
   "metadata": {},
   "source": [
    "#### The most common types of restaurants are casual dining, quick bites, and cafe's"
   ]
  },
  {
   "cell_type": "markdown",
   "id": "366698af",
   "metadata": {},
   "source": [
    "# Building Machine Learning Model"
   ]
  },
  {
   "cell_type": "markdown",
   "id": "a09a3215",
   "metadata": {},
   "source": [
    "#### Using a label encoder for the categorical variables to make it easier to build an algorithm"
   ]
  },
  {
   "cell_type": "code",
   "execution_count": 229,
   "id": "dcc806fd",
   "metadata": {},
   "outputs": [],
   "source": [
    "from sklearn.preprocessing import LabelEncoder\n",
    "le = LabelEncoder()"
   ]
  },
  {
   "cell_type": "code",
   "execution_count": 231,
   "id": "4be75828",
   "metadata": {},
   "outputs": [],
   "source": [
    "le.fit(df['location'])\n",
    "le_name_mapping = dict(zip(le.classes_, le.transform(le.classes_)))"
   ]
  },
  {
   "cell_type": "code",
   "execution_count": 234,
   "id": "25809b65",
   "metadata": {},
   "outputs": [],
   "source": [
    "countriesMapping = le_name_mapping\n",
    "df.location = le.transform(df['location'])"
   ]
  },
  {
   "cell_type": "code",
   "execution_count": 237,
   "id": "21d3f272",
   "metadata": {},
   "outputs": [],
   "source": [
    "df.rest_type = le.fit_transform(df.rest_type)"
   ]
  },
  {
   "cell_type": "code",
   "execution_count": 239,
   "id": "5f0a3a8b",
   "metadata": {},
   "outputs": [],
   "source": [
    "rest_type_mapping = dict(zip(le.classes_, le.transform(le.classes_)))\n",
    "rest_type_mapping"
   ]
  },
  {
   "cell_type": "code",
   "execution_count": 240,
   "id": "db7387e7",
   "metadata": {},
   "outputs": [],
   "source": [
    "df.cuisines = le.fit_transform(df.cuisines)\n",
    "cuisine_mapping = dict(zip(le.classes_, le.transform(le.classes_)))"
   ]
  },
  {
   "cell_type": "code",
   "execution_count": 243,
   "id": "fccb362b",
   "metadata": {},
   "outputs": [],
   "source": [
    "le.fit_transform(df.menu_item)\n",
    "menu_mapping = dict(zip(le.classes_, le.transform(le.classes_)))"
   ]
  },
  {
   "cell_type": "code",
   "execution_count": 245,
   "id": "ec3ccef6",
   "metadata": {},
   "outputs": [],
   "source": [
    "df.menu_item = le.fit_transform(df.menu_item)"
   ]
  },
  {
   "cell_type": "markdown",
   "id": "0d41a061",
   "metadata": {},
   "source": [
    "#### Making train and test split"
   ]
  },
  {
   "cell_type": "code",
   "execution_count": 246,
   "id": "5fe0143b",
   "metadata": {},
   "outputs": [],
   "source": [
    "df2=df.iloc[:,[2,3,4,5,6,7,9,10,12]]\n",
    "df2.to_csv('Zomato_df.csv') "
   ]
  },
  {
   "cell_type": "code",
   "execution_count": 258,
   "id": "a8988d75",
   "metadata": {},
   "outputs": [
    {
     "data": {
      "text/html": [
       "<div>\n",
       "<style scoped>\n",
       "    .dataframe tbody tr th:only-of-type {\n",
       "        vertical-align: middle;\n",
       "    }\n",
       "\n",
       "    .dataframe tbody tr th {\n",
       "        vertical-align: top;\n",
       "    }\n",
       "\n",
       "    .dataframe thead th {\n",
       "        text-align: right;\n",
       "    }\n",
       "</style>\n",
       "<table border=\"1\" class=\"dataframe\">\n",
       "  <thead>\n",
       "    <tr style=\"text-align: right;\">\n",
       "      <th></th>\n",
       "      <th>online_order</th>\n",
       "      <th>book_table</th>\n",
       "      <th>votes</th>\n",
       "      <th>location</th>\n",
       "      <th>rest_type</th>\n",
       "      <th>cuisines</th>\n",
       "      <th>cost</th>\n",
       "      <th>menu_item</th>\n",
       "    </tr>\n",
       "  </thead>\n",
       "  <tbody>\n",
       "    <tr>\n",
       "      <th>0</th>\n",
       "      <td>1</td>\n",
       "      <td>1</td>\n",
       "      <td>775</td>\n",
       "      <td>1</td>\n",
       "      <td>20</td>\n",
       "      <td>1386</td>\n",
       "      <td>800.0</td>\n",
       "      <td>5047</td>\n",
       "    </tr>\n",
       "    <tr>\n",
       "      <th>1</th>\n",
       "      <td>1</td>\n",
       "      <td>0</td>\n",
       "      <td>787</td>\n",
       "      <td>1</td>\n",
       "      <td>20</td>\n",
       "      <td>594</td>\n",
       "      <td>800.0</td>\n",
       "      <td>5047</td>\n",
       "    </tr>\n",
       "    <tr>\n",
       "      <th>2</th>\n",
       "      <td>1</td>\n",
       "      <td>0</td>\n",
       "      <td>918</td>\n",
       "      <td>1</td>\n",
       "      <td>16</td>\n",
       "      <td>484</td>\n",
       "      <td>800.0</td>\n",
       "      <td>5047</td>\n",
       "    </tr>\n",
       "    <tr>\n",
       "      <th>3</th>\n",
       "      <td>0</td>\n",
       "      <td>0</td>\n",
       "      <td>88</td>\n",
       "      <td>1</td>\n",
       "      <td>62</td>\n",
       "      <td>1587</td>\n",
       "      <td>300.0</td>\n",
       "      <td>5047</td>\n",
       "    </tr>\n",
       "    <tr>\n",
       "      <th>4</th>\n",
       "      <td>0</td>\n",
       "      <td>0</td>\n",
       "      <td>166</td>\n",
       "      <td>4</td>\n",
       "      <td>20</td>\n",
       "      <td>1406</td>\n",
       "      <td>600.0</td>\n",
       "      <td>5047</td>\n",
       "    </tr>\n",
       "  </tbody>\n",
       "</table>\n",
       "</div>"
      ],
      "text/plain": [
       "  online_order  book_table  votes  location  rest_type  cuisines   cost  \\\n",
       "0            1           1    775         1         20      1386  800.0   \n",
       "1            1           0    787         1         20       594  800.0   \n",
       "2            1           0    918         1         16       484  800.0   \n",
       "3            0           0     88         1         62      1587  300.0   \n",
       "4            0           0    166         4         20      1406  600.0   \n",
       "\n",
       "   menu_item  \n",
       "0       5047  \n",
       "1       5047  \n",
       "2       5047  \n",
       "3       5047  \n",
       "4       5047  "
      ]
     },
     "execution_count": 258,
     "metadata": {},
     "output_type": "execute_result"
    }
   ],
   "source": [
    "X = df.iloc[:,[2,3,4,5,6,7,9,10,12]]\n",
    "X.head()"
   ]
  },
  {
   "cell_type": "code",
   "execution_count": 259,
   "id": "315974e8",
   "metadata": {},
   "outputs": [],
   "source": [
    "y = df['rate']"
   ]
  },
  {
   "cell_type": "code",
   "execution_count": 261,
   "id": "2055d3e8",
   "metadata": {},
   "outputs": [],
   "source": [
    "X_train, X_test, y_train, y_test = train_test_split(X, y, test_size=0.3, random_state=42)"
   ]
  },
  {
   "cell_type": "markdown",
   "id": "dc715a4d",
   "metadata": {},
   "source": [
    "### Linear Regression"
   ]
  },
  {
   "cell_type": "code",
   "execution_count": 262,
   "id": "ad799b6c",
   "metadata": {},
   "outputs": [
    {
     "data": {
      "text/plain": [
       "LinearRegression()"
      ]
     },
     "execution_count": 262,
     "metadata": {},
     "output_type": "execute_result"
    }
   ],
   "source": [
    "lr = LinearRegression()\n",
    "lr.fit(X_train, y_train)"
   ]
  },
  {
   "cell_type": "code",
   "execution_count": 263,
   "id": "cf4cc0fc",
   "metadata": {},
   "outputs": [],
   "source": [
    "from sklearn.metrics import r2_score"
   ]
  },
  {
   "cell_type": "markdown",
   "id": "74f58ef7",
   "metadata": {},
   "source": [
    "#### I am using r2 score to asses model to see how much variability of data can be explained by the model. The closer the value is to 1 the better job the model is doing at predicitng."
   ]
  },
  {
   "cell_type": "code",
   "execution_count": 266,
   "id": "46b66f86",
   "metadata": {},
   "outputs": [
    {
     "data": {
      "text/plain": [
       "0.22330334842254618"
      ]
     },
     "execution_count": 266,
     "metadata": {},
     "output_type": "execute_result"
    }
   ],
   "source": [
    "y_pred=lr.predict(X_test)\n",
    "r2_score(y_test,y_pred)"
   ]
  },
  {
   "cell_type": "markdown",
   "id": "16cfc8d2",
   "metadata": {},
   "source": [
    "#### This model is not doing a good job. Only 22% of the variability of the target can be explained by the model while the remaining 78 % of the variability is still unaccounted for."
   ]
  },
  {
   "cell_type": "markdown",
   "id": "b25dde15",
   "metadata": {},
   "source": [
    "### Random Forest"
   ]
  },
  {
   "cell_type": "code",
   "execution_count": 268,
   "id": "d3bfcfd1",
   "metadata": {},
   "outputs": [
    {
     "data": {
      "text/plain": [
       "0.8803918437681498"
      ]
     },
     "execution_count": 268,
     "metadata": {},
     "output_type": "execute_result"
    }
   ],
   "source": [
    "from sklearn.ensemble import RandomForestRegressor\n",
    "RF_Model=RandomForestRegressor(n_estimators=650,random_state=245,min_samples_leaf=.0001)\n",
    "RF_Model.fit(X_train,y_train)\n",
    "y_predict=RF_Model.predict(X_test)\n",
    "r2_score(y_test,y_predict)"
   ]
  },
  {
   "cell_type": "markdown",
   "id": "ff29f33d",
   "metadata": {},
   "source": [
    "#### This is a much better result than linear regression"
   ]
  },
  {
   "cell_type": "markdown",
   "id": "5d4d92ad",
   "metadata": {},
   "source": [
    "### ExtraTree Regressor"
   ]
  },
  {
   "cell_type": "code",
   "execution_count": 270,
   "id": "09170d2c",
   "metadata": {},
   "outputs": [
    {
     "data": {
      "text/plain": [
       "0.9257896854910971"
      ]
     },
     "execution_count": 270,
     "metadata": {},
     "output_type": "execute_result"
    }
   ],
   "source": [
    "#Preparing Extra Tree Regression\n",
    "from sklearn.ensemble import  ExtraTreesRegressor\n",
    "ET_Model=ExtraTreesRegressor(n_estimators = 120)\n",
    "ET_Model.fit(X_train,y_train)\n",
    "y_predict=ET_Model.predict(X_test)\n",
    "\n",
    "\n",
    "from sklearn.metrics import r2_score\n",
    "r2_score(y_test,y_predict)"
   ]
  },
  {
   "cell_type": "markdown",
   "id": "0497b56b",
   "metadata": {},
   "source": [
    "#### Extra tree regrssor has the best result which will be used for the application"
   ]
  },
  {
   "cell_type": "code",
   "execution_count": 271,
   "id": "8cf558ea",
   "metadata": {},
   "outputs": [],
   "source": [
    "import pickle \n",
    "# Saving model to disk\n",
    "pickle.dump(ET_Model, open('model.pkl','wb'))\n",
    "model=pickle.load(open('model.pkl','rb'))"
   ]
  },
  {
   "cell_type": "code",
   "execution_count": null,
   "id": "d4ad560f",
   "metadata": {},
   "outputs": [],
   "source": []
  },
  {
   "cell_type": "code",
   "execution_count": null,
   "id": "db86a4ad",
   "metadata": {},
   "outputs": [],
   "source": []
  }
 ],
 "metadata": {
  "kernelspec": {
   "display_name": "Python 3 (ipykernel)",
   "language": "python",
   "name": "python3"
  },
  "language_info": {
   "codemirror_mode": {
    "name": "ipython",
    "version": 3
   },
   "file_extension": ".py",
   "mimetype": "text/x-python",
   "name": "python",
   "nbconvert_exporter": "python",
   "pygments_lexer": "ipython3",
   "version": "3.9.12"
  }
 },
 "nbformat": 4,
 "nbformat_minor": 5
}
